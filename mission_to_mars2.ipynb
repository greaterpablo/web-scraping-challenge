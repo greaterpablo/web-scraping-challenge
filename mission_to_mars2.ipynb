{
 "cells": [
  {
   "cell_type": "code",
   "execution_count": 1,
   "metadata": {},
   "outputs": [],
   "source": [
<<<<<<< HEAD
    "## Complete your initial scraping using Jupyter Notebook, Soup, Pandas, and Requests/Splinter.\n",
=======
    "## Complete your initial scraping using Jupyter Notebook, BeautifulSoup, Pandas, and Requests/Splinter.\n",
>>>>>>> 5e0b64b57592604d1dc5801d70eb8a2f6747423d
    "\n",
    "# Create a Jupyter Notebook file called mission_to_mars.ipynb and use this to complete all of your scraping and analysis tasks. The following outlines what you need to scrape."
   ]
  },
  {
   "cell_type": "code",
   "execution_count": 2,
   "metadata": {},
   "outputs": [],
   "source": [
    "from splinter import Browser\n",
    "from bs4 import BeautifulSoup as bs\n",
    "from flask_pymongo import PyMongo\n",
    "from webdriver_manager.chrome import ChromeDriverManager\n",
    "import time\n",
    "import pandas as pd"
   ]
  },
  {
   "cell_type": "code",
   "execution_count": 3,
   "metadata": {},
   "outputs": [],
   "source": []
  },
  {
   "cell_type": "code",
   "execution_count": null,
   "metadata": {},
   "outputs": [],
   "source": [
    "#define url \n",
    "url1 = 'https://redplanetscience.com/'"
   ]
  },
  {
   "cell_type": "code",
   "execution_count": 4,
   "metadata": {},
   "outputs": [
    {
     "name": "stderr",
     "output_type": "stream",
     "text": [
      "\n",
      "\n",
      "====== WebDriver manager ======\n",
      "Current google-chrome version is 91.0.4472\n",
      "Get LATEST driver version for 91.0.4472\n",
      "Driver [C:\\Users\\pabli\\.wdm\\drivers\\chromedriver\\win32\\91.0.4472.101\\chromedriver.exe] found in cache\n"
     ]
    }
   ],
   "source": [
    "#set scrapper\n",
    "\n",
    "executable_path = {'executable_path': ChromeDriverManager().install()}\n",
    "browser = Browser('chrome', **executable_path, headless=False)\n",
    "browser.visit(url1)\n",
    "html = browser.html\n",
    "browser.quit()\n",
    "\n",
    "\n",
    "#set soup object\n",
    "soup = bs(html, 'html.parser')"
   ]
  },
  {
   "cell_type": "code",
   "execution_count": 5,
   "metadata": {},
   "outputs": [
    {
     "data": {
      "text/plain": [
       "[]"
      ]
     },
     "execution_count": 5,
     "metadata": {},
     "output_type": "execute_result"
    }
   ],
   "source": [
    "## Heading 2.1\n",
    "\n",
    "#Get title names of redplanetscience.com\n",
    "\n",
    "general_scrape = soup.find('div',id='news')\n",
    "titles = general_scrape.find_all('div',class_=\"content_title\")\n",
    "teaser = general_scrape.find_all('div',class_=\"article_teaser_body\")\n",
    "list_news = []\n",
    "for x in range(len(titles)):\n",
    "    dictionarie = {\"title\":titles[x].text,\"teaser\":teaser[x].text}\n",
    "    list_news.append(dictionarie)\n",
    "list_news"
   ]
  },
  {
   "cell_type": "code",
   "execution_count": 6,
   "metadata": {},
   "outputs": [],
   "source": [
    "#close browser\n",
    "browser.quit()"
   ]
  },
  {
   "cell_type": "code",
   "execution_count": 7,
   "metadata": {},
   "outputs": [],
   "source": [
    "# MARS IMAGES"
   ]
  },
  {
   "cell_type": "code",
   "execution_count": 8,
   "metadata": {},
   "outputs": [],
   "source": [
    "#define second url\n",
    "url2 = 'https://spaceimages-mars.com/'"
   ]
  },
  {
   "cell_type": "code",
   "execution_count": 9,
   "metadata": {},
   "outputs": [
    {
     "name": "stderr",
     "output_type": "stream",
     "text": [
      "\n",
      "\n",
      "====== WebDriver manager ======\n",
      "Current google-chrome version is 91.0.4472\n",
      "Get LATEST driver version for 91.0.4472\n",
      "Driver [C:\\Users\\pabli\\.wdm\\drivers\\chromedriver\\win32\\91.0.4472.101\\chromedriver.exe] found in cache\n"
     ]
    }
   ],
   "source": [
    "# Set up scrapper\n",
    "executable_path = {'executable_path': ChromeDriverManager().install()}\n",
    "browser = Browser('chrome', **executable_path, headless=False)\n",
    "browser.visit(url2)\n",
    "html = browser.html\n",
    "\n",
    "# Set object with 'html.parser'\n",
    "soup = bs(html, 'html.parser')\n"
   ]
  },
  {
   "cell_type": "code",
   "execution_count": 10,
   "metadata": {},
   "outputs": [
    {
     "data": {
      "text/plain": [
       "['https://spaceimages-mars.com/image/mars/Icaria Fossae7.jpg',\n",
       " 'https://spaceimages-mars.com/image/mars/Proctor Crater Dunes 7.jpg',\n",
       " 'https://spaceimages-mars.com/image/mars/Icaria Fossae7.jpg',\n",
       " 'https://spaceimages-mars.com/image/mars/Proctor Crater Dunes 7.jpg',\n",
       " 'https://spaceimages-mars.com/image/mars/Proctor Crater Dunes 7.jpg',\n",
       " 'https://spaceimages-mars.com/image/mars/Icaria Fossae7.jpg',\n",
       " 'https://spaceimages-mars.com/image/mars/Icaria Fossae.jpg',\n",
       " 'https://spaceimages-mars.com/image/mars/Ariadnes Colles4.jpg',\n",
       " 'https://spaceimages-mars.com/image/mars/Niger Vallis.jpg',\n",
       " 'https://spaceimages-mars.com/image/mars/Proctor Crater Dunes.jpg',\n",
       " 'https://spaceimages-mars.com/image/mars/Niger Vallis.jpg',\n",
       " 'https://spaceimages-mars.com/image/mars/Daedalia Planum.jpg',\n",
       " 'https://spaceimages-mars.com/image/mars/Sirenum Fossae.jpg',\n",
       " 'https://spaceimages-mars.com/image/mars/Ariadnes Colles4.jpg',\n",
       " 'https://spaceimages-mars.com/image/mars/South Polar Cap.jpg',\n",
       " 'https://spaceimages-mars.com/image/mars/Daedalia Planum.jpg',\n",
       " 'https://spaceimages-mars.com/image/mars/Ariadnes Colles3.jpg',\n",
       " 'https://spaceimages-mars.com/image/mars/Atlantis Chaos.jpg',\n",
       " 'https://spaceimages-mars.com/image/mars/Daedalia Planum.jpg',\n",
       " 'https://spaceimages-mars.com/image/mars/Icaria Fossae.jpg',\n",
       " 'https://spaceimages-mars.com/image/mars/Niger Vallis.jpg',\n",
       " 'https://spaceimages-mars.com/image/mars/Proctor Crater Dunes.jpg',\n",
       " 'https://spaceimages-mars.com/image/mars/Reull Vallis.jpg',\n",
       " 'https://spaceimages-mars.com/image/mars/Ariadnes Colles3.jpg',\n",
       " 'https://spaceimages-mars.com/image/mars/Sirenum Fossae.jpg',\n",
       " 'https://spaceimages-mars.com/image/mars/South Polar Cap.jpg',\n",
       " 'https://spaceimages-mars.com/image/mars/Niger Vallis.jpg',\n",
       " 'https://spaceimages-mars.com/image/mars/Daedalia Planum.jpg',\n",
       " 'https://spaceimages-mars.com/image/mars/Icaria Fossae.jpg',\n",
       " 'https://spaceimages-mars.com/image/mars/Ariadnes Colles4.jpg',\n",
       " 'https://spaceimages-mars.com/image/mars/South Polar Cap.jpg',\n",
       " 'https://spaceimages-mars.com/image/mars/Daedalia Planum.jpg']"
      ]
     },
     "execution_count": 10,
     "metadata": {},
     "output_type": "execute_result"
    }
   ],
   "source": [
    "#Get images from https://spaceimages-mars.com/\n",
    "scraped_images = soup.body.find('div',class_='thmbgroup')\n",
    "images = scraped_images.find_all('a')\n",
    "listed_images = []\n",
    "for image in images:\n",
    "    listed_images.append(url2+image['href'])\n",
    "listed_images"
   ]
  },
  {
   "cell_type": "code",
   "execution_count": 11,
   "metadata": {},
   "outputs": [],
   "source": [
    "# Close browser\n",
    "browser.quit()"
   ]
  },
  {
   "cell_type": "code",
   "execution_count": 12,
   "metadata": {},
   "outputs": [],
   "source": [
    "# MARS Facts"
   ]
  },
  {
   "cell_type": "code",
   "execution_count": 13,
   "metadata": {},
   "outputs": [
    {
     "data": {
      "text/plain": [
       "{'Diameter:': '6,779 km',\n",
       " 'Mass:': '6.39 × 10^23 kg',\n",
       " 'Moons:': '2',\n",
       " 'Distance from Sun:': '227,943,824 km',\n",
       " 'Length of Year:': '687 Earth days',\n",
       " 'Temperature:': '-87 to -5 °C'}"
      ]
     },
     "execution_count": 13,
     "metadata": {},
     "output_type": "execute_result"
    }
   ],
   "source": [
    "# define third url\n",
    "url3 = 'https://galaxyfacts-mars.com/'\n",
    "\n",
    "# Scrap facts\n",
    "\n",
    "marsfacts = pd.read_html(url3)[1]\n",
    "marsfacts = marsfacts.rename(columns={0:\"Fact\",1:\"Information\"})\n",
    "facts_html = marsfacts.to_html()\n",
    "facts_html\n",
    "\n",
    "# Scrap facts\n",
    "mars_info = {}\n",
    "\n",
    "#get tables and format\n",
    " \n",
    "tables = pd.read_html(url3)\n",
    "fact_table = tables[0]\n",
    "fact_table.columns = ['Comparison', 'Mars', 'Earth']\n",
    "fact_table = fact_table.iloc[1:len(fact_table),:]\n",
    "fact_table = fact_table.set_index('Comparison')\n",
    "fact_table = fact_table.to_dict()\n",
    "\n",
    "#save data\n",
    "\n",
    "mars_info['fact_table'] = fact_table\n",
    "\n",
    "mars_info['fact_table']['Mars']\n"
   ]
  },
  {
   "cell_type": "code",
   "execution_count": 14,
   "metadata": {},
   "outputs": [],
   "source": [
    "## Mars Hemispheres"
   ]
  },
  {
   "cell_type": "code",
   "execution_count": 15,
   "metadata": {},
   "outputs": [
    {
     "name": "stderr",
     "output_type": "stream",
     "text": [
      "\n",
      "\n",
      "====== WebDriver manager ======\n",
      "Current google-chrome version is 91.0.4472\n",
      "Get LATEST driver version for 91.0.4472\n",
      "Driver [C:\\Users\\pabli\\.wdm\\drivers\\chromedriver\\win32\\91.0.4472.101\\chromedriver.exe] found in cache\n"
     ]
    }
   ],
   "source": [
    "# define third url\n",
    "url4 = 'https://marshemispheres.com/'\n",
    "\n",
    "# Setup splinter\n",
    "executable_path = {'executable_path': ChromeDriverManager().install()}\n",
    "browser = Browser('chrome', **executable_path, headless=False)\n",
    "browser.visit(url4)\n",
    "html = browser.html\n",
    "\n",
    "# Create Soup object; parse with 'html.parser'\n",
    "soup = bs(html, 'html.parser')"
   ]
  },
  {
   "cell_type": "code",
   "execution_count": 18,
   "metadata": {},
   "outputs": [
    {
     "data": {
      "text/plain": [
       "[{'title': 'Cerberus Hemisphere Enhanced',\n",
       "  'img_url': 'https://marshemispheres.com/images/f5e372a36edfa389625da6d0cc25d905_cerberus_enhanced.tif_full.jpg'},\n",
       " {'title': 'Schiaparelli Hemisphere Enhanced',\n",
       "  'img_url': 'https://marshemispheres.com/images/3778f7b43bbbc89d6e3cfabb3613ba93_schiaparelli_enhanced.tif_full.jpg'},\n",
       " {'title': 'Syrtis Major Hemisphere Enhanced',\n",
       "  'img_url': 'https://marshemispheres.com/images/555e6403a6ddd7ba16ddb0e471cadcf7_syrtis_major_enhanced.tif_full.jpg'},\n",
       " {'title': 'Valles Marineris Hemisphere Enhanced',\n",
       "  'img_url': 'https://marshemispheres.com/images/b3c7c6c9138f57b4756be9b9c43e3a48_valles_marineris_enhanced.tif_full.jpg'}]"
      ]
     },
     "execution_count": 18,
     "metadata": {},
     "output_type": "execute_result"
    }
   ],
   "source": [
    "#Get images from spaceimages-mars.com/\n",
    "hemisphere_scrape_links = soup.body.find('div',class_='collapsible results')\n",
    "hemisphere_links = hemisphere_scrape_links.find_all('a',class_=\"itemLink product-item\")\n",
    "hemisphere_image = []\n",
    "for link in hemisphere_links:\n",
    "    img_dict = {}\n",
    "    if link.h3 is None:\n",
    "        link_path = link[\"href\"]\n",
    "        browser.visit(url4+link_path)\n",
    "        html = browser.html\n",
    "        soup = bs(html, 'html.parser')\n",
    "        title = soup.body.find('h2',class_=\"title\").text\n",
    "        hem_image = soup.body.find('img',class_='wide-image')['src']\n",
    "        img_dict[\"title\"] = title\n",
    "        img_dict[\"img_url\"] = url4+hem_image\n",
    "        hemisphere_image.append(img_dict)\n",
    "\n",
    "hemisphere_image\n",
    "\n",
    "hemisphere_image"
   ]
  },
  {
   "cell_type": "code",
   "execution_count": null,
   "metadata": {},
   "outputs": [],
   "source": [
    "# Close browser\n",
    "browser.quit()"
   ]
  },
  {
   "cell_type": "code",
   "execution_count": 20,
   "metadata": {},
   "outputs": [],
   "source": [
    "dictionary_read = {\n",
    "    \"News\": list_news,\n",
    "    \"Images\": listed_images,\n",
    "    \"Facts\": facts_html,\n",
    "    \"Hemisphere\":hemisphere_image\n",
    "    \n",
    "}"
   ]
  },
  {
   "cell_type": "code",
   "execution_count": null,
   "metadata": {},
   "outputs": [],
   "source": []
  }
 ],
 "metadata": {
  "anaconda-cloud": {},
  "kernel_info": {
   "name": "python3"
  },
  "kernelspec": {
   "display_name": "Python 3",
   "language": "python",
   "name": "python3"
  },
  "language_info": {
   "codemirror_mode": {
    "name": "ipython",
    "version": 3
   },
   "file_extension": ".py",
   "mimetype": "text/x-python",
   "name": "python",
   "nbconvert_exporter": "python",
   "pygments_lexer": "ipython3",
   "version": "3.8.5"
  },
  "latex_envs": {
   "LaTeX_envs_menu_present": true,
   "autoclose": false,
   "autocomplete": true,
   "bibliofile": "biblio.bib",
   "cite_by": "apalike",
   "current_citInitial": 1,
   "eqLabelWithNumbers": true,
   "eqNumInitial": 1,
   "hotkeys": {
    "equation": "Ctrl-E",
    "itemize": "Ctrl-I"
   },
   "labels_anchors": false,
   "latex_user_defs": false,
   "report_style_numbering": false,
   "user_envs_cfg": false
  },
  "nteract": {
   "version": "0.2.0"
  }
 },
 "nbformat": 4,
 "nbformat_minor": 2
}
